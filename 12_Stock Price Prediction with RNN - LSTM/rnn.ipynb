{
 "cells": [
  {
   "cell_type": "markdown",
   "metadata": {
    "id": "xpAuMVCwfWs8"
   },
   "source": [
    "# Recurrent Neural Network"
   ]
  },
  {
   "cell_type": "markdown",
   "metadata": {
    "id": "nxJfRe4bfYVA"
   },
   "source": [
    "## Part 1 - Data Preprocessing"
   ]
  },
  {
   "cell_type": "markdown",
   "metadata": {
    "id": "ir9zwETrfbrp"
   },
   "source": [
    "### Importing the libraries"
   ]
  },
  {
   "cell_type": "code",
   "execution_count": 1,
   "metadata": {
    "id": "ZT1f24vHffuf"
   },
   "outputs": [],
   "source": [
    "import numpy as np\n",
    "import matplotlib.pyplot as plt\n",
    "import pandas as pd"
   ]
  },
  {
   "cell_type": "markdown",
   "metadata": {
    "id": "nQ47JAxrgmaL"
   },
   "source": [
    "### Importing the training set"
   ]
  },
  {
   "cell_type": "code",
   "execution_count": 2,
   "metadata": {
    "id": "1xiv3pJOgqY3"
   },
   "outputs": [],
   "source": [
    "dataset_train = pd.read_csv('Google_Stock_Price_Train.csv')\n",
    "training_set = dataset_train.iloc[:, 1:2].values \n",
    "# we only need 2nd column so we take range 1 to 2, 1 is second column and in range 2 is excluded"
   ]
  },
  {
   "cell_type": "markdown",
   "metadata": {
    "id": "HT8_2UJegtG5"
   },
   "source": [
    "### Feature Scaling"
   ]
  },
  {
   "cell_type": "code",
   "execution_count": 3,
   "metadata": {
    "id": "OTrF2kR7gx9x"
   },
   "outputs": [],
   "source": [
    "from sklearn.preprocessing import MinMaxScaler\n",
    "sc = MinMaxScaler(feature_range = (0, 1))\n",
    "training_set_scaled = sc.fit_transform(training_set)"
   ]
  },
  {
   "cell_type": "markdown",
   "metadata": {
    "id": "JyYgYocqhNUg"
   },
   "source": [
    "### Creating a data structure with 60 timesteps and 1 output"
   ]
  },
  {
   "cell_type": "code",
   "execution_count": 4,
   "metadata": {},
   "outputs": [],
   "source": [
    "X_train = []\n",
    "y_train = []\n",
    "\n",
    "for i in range(60, 1258):\n",
    "    X_train.append(training_set_scaled[i -60: i, 0]) # 60 value range for each unit\n",
    "    y_train.append(training_set_scaled[i, 0]) # xtrain has value form 0 to 59 and in ytrain we are taking value 60th\n",
    "    # we want to predict 60th value based on 0-59 value range\n",
    "\n",
    "# xtrain and ytrain are list we need to make them np array\n",
    "X_train, y_train = np.array(X_train), np.array(y_train)"
   ]
  },
  {
   "cell_type": "markdown",
   "metadata": {
    "id": "D8yaN7Zvi95l"
   },
   "source": [
    "### Reshaping"
   ]
  },
  {
   "cell_type": "code",
   "execution_count": 5,
   "metadata": {},
   "outputs": [],
   "source": [
    "# reshaping Xtrain from 2d to 3d as LSTM takes 3d input adn 3dimention represents..\n",
    "'''\n",
    "batch_size/observations: The number of sequences or samples in each batch.\n",
    "time_steps: The number of time steps or elements in each sequence.\n",
    "input_features/indicators: The number of features or variables at each time step.\n",
    "'''\n",
    "X_train = np.reshape(X_train, (X_train.shape[0],X_train.shape[1], 1))\n",
    "# extra dimension with a size of 1 to represent a single feature at each time step. "
   ]
  },
  {
   "cell_type": "markdown",
   "metadata": {
    "id": "ZRRSOJeVjEWV"
   },
   "source": [
    "## Part 2 - Building and Training the RNN"
   ]
  },
  {
   "cell_type": "markdown",
   "metadata": {
    "id": "k4XV88JMjHXG"
   },
   "source": [
    "### Importing the Keras libraries and packages"
   ]
  },
  {
   "cell_type": "code",
   "execution_count": 6,
   "metadata": {},
   "outputs": [],
   "source": [
    "from keras.models import Sequential\n",
    "from keras.layers import Dense\n",
    "from keras.layers import LSTM\n",
    "from keras.layers import Dropout "
   ]
  },
  {
   "cell_type": "markdown",
   "metadata": {
    "id": "FEIE-1s9jNzC"
   },
   "source": [
    "### Initialising the RNN"
   ]
  },
  {
   "cell_type": "code",
   "execution_count": 7,
   "metadata": {},
   "outputs": [
    {
     "name": "stderr",
     "output_type": "stream",
     "text": [
      "2023-10-23 17:46:43.281473: I metal_plugin/src/device/metal_device.cc:1154] Metal device set to: Apple M1\n",
      "2023-10-23 17:46:43.281495: I metal_plugin/src/device/metal_device.cc:296] systemMemory: 8.00 GB\n",
      "2023-10-23 17:46:43.281502: I metal_plugin/src/device/metal_device.cc:313] maxCacheSize: 2.67 GB\n",
      "2023-10-23 17:46:43.281688: I tensorflow/core/common_runtime/pluggable_device/pluggable_device_factory.cc:306] Could not identify NUMA node of platform GPU ID 0, defaulting to 0. Your kernel may not have been built with NUMA support.\n",
      "2023-10-23 17:46:43.281859: I tensorflow/core/common_runtime/pluggable_device/pluggable_device_factory.cc:272] Created TensorFlow device (/job:localhost/replica:0/task:0/device:GPU:0 with 0 MB memory) -> physical PluggableDevice (device: 0, name: METAL, pci bus id: <undefined>)\n"
     ]
    }
   ],
   "source": [
    "regressor = Sequential()"
   ]
  },
  {
   "cell_type": "markdown",
   "metadata": {
    "id": "62eg1OPGjT8z"
   },
   "source": [
    "### Adding the first LSTM layer and some Dropout regularisation"
   ]
  },
  {
   "cell_type": "code",
   "execution_count": 8,
   "metadata": {},
   "outputs": [],
   "source": [
    "regressor.add(LSTM(units = 50, return_sequences = True, input_shape = (X_train.shape[1], 1)))\n",
    "regressor.add(Dropout(0.2)) # 20% neuron drop rate during training \n",
    "# return sequence is True as we are adding more layer and on last layer it will be False\n",
    "# with return_sequences=True, the LSTM layer outputs the sequence of hidden states, which can be used for further processing.  \n",
    "# with return_sequences=False, the LSTM layer outputs a single hidden state that summarizes the entire sequence. "
   ]
  },
  {
   "cell_type": "markdown",
   "metadata": {
    "id": "3XBIYLyOjlMx"
   },
   "source": [
    "### Adding a second LSTM layer and some Dropout regularisation"
   ]
  },
  {
   "cell_type": "code",
   "execution_count": 9,
   "metadata": {},
   "outputs": [],
   "source": [
    "regressor.add(LSTM(units = 50, return_sequences = True)) # no need to add input shape as we provided in first layer\n",
    "regressor.add(Dropout(0.2))"
   ]
  },
  {
   "cell_type": "markdown",
   "metadata": {
    "id": "Ey3fHVnGj1cu"
   },
   "source": [
    "### Adding a third LSTM layer and some Dropout regularisation"
   ]
  },
  {
   "cell_type": "code",
   "execution_count": 10,
   "metadata": {},
   "outputs": [],
   "source": [
    "regressor.add(LSTM(units = 50, return_sequences = True)) \n",
    "regressor.add(Dropout(0.2))"
   ]
  },
  {
   "cell_type": "markdown",
   "metadata": {
    "id": "SYTrtfTmj933"
   },
   "source": [
    "### Adding a fourth LSTM layer and some Dropout regularisation"
   ]
  },
  {
   "cell_type": "code",
   "execution_count": 11,
   "metadata": {},
   "outputs": [],
   "source": [
    "regressor.add(LSTM(units = 50)) # by default return sequence is set to False\n",
    "regressor.add(Dropout(0.2))"
   ]
  },
  {
   "cell_type": "markdown",
   "metadata": {
    "id": "9ABI6rOIkHhk"
   },
   "source": [
    "### Adding the output layer"
   ]
  },
  {
   "cell_type": "code",
   "execution_count": 12,
   "metadata": {},
   "outputs": [],
   "source": [
    "regressor.add(Dense(units = 1)) # we just need 1 output as we are pridicting value in out case"
   ]
  },
  {
   "cell_type": "markdown",
   "metadata": {
    "id": "zLx4K7uUkPSh"
   },
   "source": [
    "### Compiling the RNN"
   ]
  },
  {
   "cell_type": "code",
   "execution_count": 13,
   "metadata": {},
   "outputs": [],
   "source": [
    "regressor.compile(optimizer = 'adam', loss = 'mean_squared_error') # for rnn we can also use RMSprop optimizer"
   ]
  },
  {
   "cell_type": "markdown",
   "metadata": {
    "id": "-mPhwKGkkebi"
   },
   "source": [
    "### Fitting the RNN to the Training set"
   ]
  },
  {
   "cell_type": "code",
   "execution_count": 14,
   "metadata": {},
   "outputs": [
    {
     "name": "stdout",
     "output_type": "stream",
     "text": [
      "Epoch 1/100\n"
     ]
    },
    {
     "name": "stderr",
     "output_type": "stream",
     "text": [
      "2023-10-23 17:54:27.958863: I tensorflow/core/grappler/optimizers/custom_graph_optimizer_registry.cc:117] Plugin optimizer for device_type GPU is enabled.\n"
     ]
    },
    {
     "name": "stdout",
     "output_type": "stream",
     "text": [
      "38/38 [==============================] - 22s 165ms/step - loss: 0.0356\n",
      "Epoch 2/100\n",
      "38/38 [==============================] - 1s 38ms/step - loss: 0.0041\n",
      "Epoch 3/100\n",
      "38/38 [==============================] - 1s 35ms/step - loss: 0.0033\n",
      "Epoch 4/100\n",
      "38/38 [==============================] - 1s 35ms/step - loss: 0.0027\n",
      "Epoch 5/100\n",
      "38/38 [==============================] - 1s 35ms/step - loss: 0.0027\n",
      "Epoch 6/100\n",
      "38/38 [==============================] - 1s 35ms/step - loss: 0.0025\n",
      "Epoch 7/100\n",
      "38/38 [==============================] - 1s 38ms/step - loss: 0.0021\n",
      "Epoch 8/100\n",
      "38/38 [==============================] - 2s 40ms/step - loss: 0.0023\n",
      "Epoch 9/100\n",
      "38/38 [==============================] - 2s 41ms/step - loss: 0.0021\n",
      "Epoch 10/100\n",
      "38/38 [==============================] - 2s 43ms/step - loss: 0.0023\n",
      "Epoch 11/100\n",
      "38/38 [==============================] - 1s 37ms/step - loss: 0.0021\n",
      "Epoch 12/100\n",
      "38/38 [==============================] - 1s 39ms/step - loss: 0.0018\n",
      "Epoch 13/100\n",
      "38/38 [==============================] - 1s 39ms/step - loss: 0.0018\n",
      "Epoch 14/100\n",
      "38/38 [==============================] - 1s 35ms/step - loss: 0.0018\n",
      "Epoch 15/100\n",
      "38/38 [==============================] - 1s 37ms/step - loss: 0.0018\n",
      "Epoch 16/100\n",
      "38/38 [==============================] - 1s 35ms/step - loss: 0.0016\n",
      "Epoch 17/100\n",
      "38/38 [==============================] - 1s 35ms/step - loss: 0.0015\n",
      "Epoch 18/100\n",
      "38/38 [==============================] - 1s 35ms/step - loss: 0.0016\n",
      "Epoch 19/100\n",
      "38/38 [==============================] - 1s 35ms/step - loss: 0.0016\n",
      "Epoch 20/100\n",
      "38/38 [==============================] - 1s 39ms/step - loss: 0.0016\n",
      "Epoch 21/100\n",
      "38/38 [==============================] - 1s 37ms/step - loss: 0.0015\n",
      "Epoch 22/100\n",
      "38/38 [==============================] - 1s 36ms/step - loss: 0.0016\n",
      "Epoch 23/100\n",
      "38/38 [==============================] - 1s 36ms/step - loss: 0.0014\n",
      "Epoch 24/100\n",
      "38/38 [==============================] - 1s 38ms/step - loss: 0.0014\n",
      "Epoch 25/100\n",
      "38/38 [==============================] - 1s 36ms/step - loss: 0.0015\n",
      "Epoch 26/100\n",
      "38/38 [==============================] - 1s 37ms/step - loss: 0.0017\n",
      "Epoch 27/100\n",
      "38/38 [==============================] - 1s 37ms/step - loss: 0.0014\n",
      "Epoch 28/100\n",
      "38/38 [==============================] - 1s 37ms/step - loss: 0.0013\n",
      "Epoch 29/100\n",
      "38/38 [==============================] - 1s 38ms/step - loss: 0.0013\n",
      "Epoch 30/100\n",
      "38/38 [==============================] - 1s 36ms/step - loss: 0.0012\n",
      "Epoch 31/100\n",
      "38/38 [==============================] - 2s 41ms/step - loss: 0.0016\n",
      "Epoch 32/100\n",
      "38/38 [==============================] - 1s 36ms/step - loss: 0.0012\n",
      "Epoch 33/100\n",
      "38/38 [==============================] - 2s 42ms/step - loss: 0.0014\n",
      "Epoch 34/100\n",
      "38/38 [==============================] - 1s 36ms/step - loss: 0.0014\n",
      "Epoch 35/100\n",
      "38/38 [==============================] - 1s 35ms/step - loss: 0.0012\n",
      "Epoch 36/100\n",
      "38/38 [==============================] - 1s 36ms/step - loss: 0.0014\n",
      "Epoch 37/100\n",
      "38/38 [==============================] - 1s 36ms/step - loss: 0.0013\n",
      "Epoch 38/100\n",
      "38/38 [==============================] - 1s 36ms/step - loss: 0.0011\n",
      "Epoch 39/100\n",
      "38/38 [==============================] - 1s 35ms/step - loss: 0.0011\n",
      "Epoch 40/100\n",
      "38/38 [==============================] - 1s 35ms/step - loss: 0.0011\n",
      "Epoch 41/100\n",
      "38/38 [==============================] - 1s 35ms/step - loss: 0.0013\n",
      "Epoch 42/100\n",
      "38/38 [==============================] - 1s 39ms/step - loss: 0.0010\n",
      "Epoch 43/100\n",
      "38/38 [==============================] - 1s 38ms/step - loss: 0.0010\n",
      "Epoch 44/100\n",
      "38/38 [==============================] - 1s 38ms/step - loss: 0.0010\n",
      "Epoch 45/100\n",
      "38/38 [==============================] - 2s 40ms/step - loss: 0.0011\n",
      "Epoch 46/100\n",
      "38/38 [==============================] - 1s 37ms/step - loss: 0.0010\n",
      "Epoch 47/100\n",
      "38/38 [==============================] - 1s 36ms/step - loss: 0.0011\n",
      "Epoch 48/100\n",
      "38/38 [==============================] - 1s 36ms/step - loss: 9.9555e-04\n",
      "Epoch 49/100\n",
      "38/38 [==============================] - 1s 39ms/step - loss: 9.8285e-04\n",
      "Epoch 50/100\n",
      "38/38 [==============================] - 1s 36ms/step - loss: 9.3312e-04\n",
      "Epoch 51/100\n",
      "38/38 [==============================] - 1s 36ms/step - loss: 9.8963e-04\n",
      "Epoch 52/100\n",
      "38/38 [==============================] - 1s 38ms/step - loss: 9.6351e-04\n",
      "Epoch 53/100\n",
      "38/38 [==============================] - 1s 37ms/step - loss: 9.9386e-04\n",
      "Epoch 54/100\n",
      "38/38 [==============================] - 1s 37ms/step - loss: 8.9245e-04\n",
      "Epoch 55/100\n",
      "38/38 [==============================] - 2s 40ms/step - loss: 7.8510e-04\n",
      "Epoch 56/100\n",
      "38/38 [==============================] - 2s 59ms/step - loss: 8.1791e-04\n",
      "Epoch 57/100\n",
      "38/38 [==============================] - 2s 45ms/step - loss: 7.4173e-04\n",
      "Epoch 58/100\n",
      "38/38 [==============================] - 2s 49ms/step - loss: 7.5235e-04\n",
      "Epoch 59/100\n",
      "38/38 [==============================] - 2s 39ms/step - loss: 8.1582e-04\n",
      "Epoch 60/100\n",
      "38/38 [==============================] - 2s 40ms/step - loss: 7.5258e-04\n",
      "Epoch 61/100\n",
      "38/38 [==============================] - 1s 39ms/step - loss: 8.5273e-04\n",
      "Epoch 62/100\n",
      "38/38 [==============================] - 2s 41ms/step - loss: 7.6303e-04\n",
      "Epoch 63/100\n",
      "38/38 [==============================] - 2s 43ms/step - loss: 7.9098e-04\n",
      "Epoch 64/100\n",
      "38/38 [==============================] - 2s 42ms/step - loss: 7.3798e-04\n",
      "Epoch 65/100\n",
      "38/38 [==============================] - 2s 42ms/step - loss: 6.5994e-04\n",
      "Epoch 66/100\n",
      "38/38 [==============================] - 2s 40ms/step - loss: 6.4161e-04\n",
      "Epoch 67/100\n",
      "38/38 [==============================] - 1s 35ms/step - loss: 6.6636e-04\n",
      "Epoch 68/100\n",
      "38/38 [==============================] - 1s 39ms/step - loss: 6.9185e-04\n",
      "Epoch 69/100\n",
      "38/38 [==============================] - 2s 42ms/step - loss: 6.7505e-04\n",
      "Epoch 70/100\n",
      "38/38 [==============================] - 2s 44ms/step - loss: 6.7319e-04\n",
      "Epoch 71/100\n",
      "38/38 [==============================] - 2s 43ms/step - loss: 7.2550e-04\n",
      "Epoch 72/100\n",
      "38/38 [==============================] - 2s 46ms/step - loss: 6.6699e-04\n",
      "Epoch 73/100\n",
      "38/38 [==============================] - 2s 45ms/step - loss: 6.4120e-04\n",
      "Epoch 74/100\n",
      "38/38 [==============================] - 2s 43ms/step - loss: 6.2791e-04\n",
      "Epoch 75/100\n",
      "38/38 [==============================] - 2s 43ms/step - loss: 6.6170e-04\n",
      "Epoch 76/100\n",
      "38/38 [==============================] - 2s 46ms/step - loss: 6.9710e-04\n",
      "Epoch 77/100\n",
      "38/38 [==============================] - 2s 50ms/step - loss: 5.8706e-04\n",
      "Epoch 78/100\n",
      "38/38 [==============================] - 2s 48ms/step - loss: 6.5744e-04\n",
      "Epoch 79/100\n",
      "38/38 [==============================] - 2s 42ms/step - loss: 6.9207e-04\n",
      "Epoch 80/100\n",
      "38/38 [==============================] - 2s 44ms/step - loss: 7.1367e-04\n",
      "Epoch 81/100\n",
      "38/38 [==============================] - 2s 47ms/step - loss: 6.2777e-04\n",
      "Epoch 82/100\n",
      "38/38 [==============================] - 2s 42ms/step - loss: 5.2931e-04\n",
      "Epoch 83/100\n",
      "38/38 [==============================] - 2s 43ms/step - loss: 6.0980e-04\n",
      "Epoch 84/100\n",
      "38/38 [==============================] - 2s 42ms/step - loss: 6.1405e-04\n",
      "Epoch 85/100\n",
      "38/38 [==============================] - 2s 44ms/step - loss: 8.3387e-04\n",
      "Epoch 86/100\n",
      "38/38 [==============================] - 2s 51ms/step - loss: 4.9271e-04\n",
      "Epoch 87/100\n",
      "38/38 [==============================] - 2s 57ms/step - loss: 5.2426e-04\n",
      "Epoch 88/100\n",
      "38/38 [==============================] - 2s 45ms/step - loss: 5.0203e-04\n",
      "Epoch 89/100\n",
      "38/38 [==============================] - 2s 46ms/step - loss: 5.0768e-04\n",
      "Epoch 90/100\n",
      "38/38 [==============================] - 2s 45ms/step - loss: 4.7748e-04\n",
      "Epoch 91/100\n",
      "38/38 [==============================] - 2s 46ms/step - loss: 4.6089e-04\n",
      "Epoch 92/100\n",
      "38/38 [==============================] - 1s 39ms/step - loss: 4.7985e-04\n",
      "Epoch 93/100\n",
      "38/38 [==============================] - 2s 45ms/step - loss: 4.9894e-04\n",
      "Epoch 94/100\n",
      "38/38 [==============================] - 2s 49ms/step - loss: 4.5976e-04\n",
      "Epoch 95/100\n",
      "38/38 [==============================] - 2s 46ms/step - loss: 5.4725e-04\n",
      "Epoch 96/100\n",
      "38/38 [==============================] - 2s 44ms/step - loss: 4.2211e-04\n",
      "Epoch 97/100\n",
      "38/38 [==============================] - 1s 39ms/step - loss: 5.0190e-04\n",
      "Epoch 98/100\n",
      "38/38 [==============================] - 1s 38ms/step - loss: 4.6665e-04\n",
      "Epoch 99/100\n",
      "38/38 [==============================] - 1s 38ms/step - loss: 5.1473e-04\n",
      "Epoch 100/100\n",
      "38/38 [==============================] - 1s 39ms/step - loss: 4.3087e-04\n"
     ]
    },
    {
     "data": {
      "text/plain": [
       "<keras.src.callbacks.History at 0x28af99670>"
      ]
     },
     "execution_count": 14,
     "metadata": {},
     "output_type": "execute_result"
    }
   ],
   "source": [
    "regressor.fit(X_train, y_train, epochs = 100, batch_size = 32)"
   ]
  },
  {
   "cell_type": "markdown",
   "metadata": {
    "id": "4hRau_lIkrE8"
   },
   "source": [
    "## Part 3 - Making the predictions and visualising the results"
   ]
  },
  {
   "cell_type": "markdown",
   "metadata": {
    "id": "SgJO6qEDksxD"
   },
   "source": [
    "### Getting the real stock price of 2017"
   ]
  },
  {
   "cell_type": "code",
   "execution_count": 15,
   "metadata": {},
   "outputs": [],
   "source": [
    "dataset_test = pd.read_csv('Google_Stock_Price_Test.csv')\n",
    "real_stock_price = dataset_test.iloc[:, 1:2].values "
   ]
  },
  {
   "cell_type": "markdown",
   "metadata": {
    "id": "GrvrLblxkz42"
   },
   "source": [
    "### Getting the predicted stock price of 2017"
   ]
  },
  {
   "cell_type": "code",
   "execution_count": 16,
   "metadata": {},
   "outputs": [],
   "source": [
    "# to predict january data we need 60 data points before 1st jan easy way is to concatinate train and test without changing original dataset\n",
    "dataset_total = pd.concat((dataset_train['Open'], dataset_test['Open']), axis = 0)\n",
    "\n",
    "# we need to predict starting jan-3 as its starting date in test set so total length - test length\n",
    "# it will give us jan3 data, \n",
    "inputs = dataset_total[len(dataset_total) - len(dataset_test) - 60:].values # data containing last 60 value, starting 60 days before 3jan and january data\n",
    "\n",
    "# reshape and transform data (feature scaling)\n",
    "inputs = inputs.reshape(-1,1)\n",
    "inputs = sc.transform(inputs)\n",
    "\n",
    "X_test = []\n",
    "\n",
    "for i in range(60, 80): # 60 before jan3 and jan data has 20 value so upper bound 80\n",
    "    X_test.append(inputs[i -60: i, 0]) # 60 value range for each unit\n",
    "     # xtest has value form 0 to 59 \n",
    "    # we want to predict 60th value based on 0-59 value range\n",
    "\n",
    "# xtest we need to make it np array\n",
    "X_test = np.array(X_test)\n",
    "\n",
    "# making it form 2d to 3d\n",
    "X_test = np.reshape(X_test, (X_test.shape[0],X_test.shape[1], 1))"
   ]
  },
  {
   "cell_type": "code",
   "execution_count": 17,
   "metadata": {},
   "outputs": [
    {
     "name": "stdout",
     "output_type": "stream",
     "text": [
      "1/1 [==============================] - 3s 3s/step\n"
     ]
    }
   ],
   "source": [
    "# predict the result and inverse the scaling of data\n",
    "predicted_stock_price = regressor.predict(X_test)\n",
    "predicted_stock_price = sc.inverse_transform(predicted_stock_price)"
   ]
  },
  {
   "cell_type": "markdown",
   "metadata": {
    "id": "iFTNs3YHk6FQ"
   },
   "source": [
    "### Visualising the results"
   ]
  },
  {
   "cell_type": "code",
   "execution_count": 19,
   "metadata": {},
   "outputs": [
    {
     "data": {
      "image/png": "[encoded data removed]",
      "text/plain": [
       "<Figure size 640x480 with 1 Axes>"
      ]
     },
     "metadata": {},
     "output_type": "display_data"
    }
   ],
   "source": [
    "plt.plot(real_stock_price, color = 'red', label  = 'Real Google Stock Price for january 2017')\n",
    "plt.plot(predicted_stock_price, color = 'blue', label  = 'Predicted Google Stock Price for january 2017')\n",
    "plt.title('Google Stock Price Prediction')\n",
    "plt.xlabel('Time')\n",
    "plt.ylabel('Google Stock Price')\n",
    "plt.legend()\n",
    "plt.show()"
   ]
  },
  {
   "cell_type": "code",
   "execution_count": null,
   "metadata": {},
   "outputs": [],
   "source": []
  }
 ],
 "metadata": {
  "colab": {
   "provenance": []
  },
  "kernelspec": {
   "display_name": "Python 3 (ipykernel)",
   "language": "python",
   "name": "python3"
  },
  "language_info": {
   "codemirror_mode": {
    "name": "ipython",
    "version": 3
   },
   "file_extension": ".py",
   "mimetype": "text/x-python",
   "name": "python",
   "nbconvert_exporter": "python",
   "pygments_lexer": "ipython3",
   "version": "3.9.18"
  }
 },
 "nbformat": 4,
 "nbformat_minor": 4
}
