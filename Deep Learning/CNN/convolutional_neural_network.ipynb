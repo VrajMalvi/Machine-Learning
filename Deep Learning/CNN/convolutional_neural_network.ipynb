{
 "cells": [
  {
   "cell_type": "markdown",
   "metadata": {
    "id": "3DR-eO17geWu"
   },
   "source": [
    "# Convolutional Neural Network"
   ]
  },
  {
   "cell_type": "markdown",
   "metadata": {
    "id": "EMefrVPCg-60"
   },
   "source": [
    "### Importing the libraries"
   ]
  },
  {
   "cell_type": "code",
   "execution_count": 1,
   "metadata": {
    "id": "KwQ0XSfZ5F78"
   },
   "outputs": [],
   "source": [
    "import tensorflow as tf\n",
    "from keras.preprocessing.image import ImageDataGenerator"
   ]
  },
  {
   "cell_type": "code",
   "execution_count": 2,
   "metadata": {
    "colab": {
     "base_uri": "https://localhost:8080/"
    },
    "id": "e7QOyLgc6wkA",
    "outputId": "bbe23e7b-68cd-4a17-d999-a9e38041f966"
   },
   "outputs": [
    {
     "name": "stdout",
     "output_type": "stream",
     "text": [
      "2.14.0\n"
     ]
    }
   ],
   "source": [
    "print(tf.__version__)"
   ]
  },
  {
   "cell_type": "markdown",
   "metadata": {
    "id": "oxQxCBWyoGPE"
   },
   "source": [
    "## Part 1 - Data Preprocessing"
   ]
  },
  {
   "cell_type": "markdown",
   "metadata": {
    "id": "MvE-heJNo3GG"
   },
   "source": [
    "### Preprocessing the Training set"
   ]
  },
  {
   "cell_type": "code",
   "execution_count": 3,
   "metadata": {
    "id": "hnunEPUs5Gax"
   },
   "outputs": [
    {
     "name": "stdout",
     "output_type": "stream",
     "text": [
      "Found 8000 images belonging to 2 classes.\n"
     ]
    }
   ],
   "source": [
    "train_datagen = ImageDataGenerator(\n",
    "        rescale=1./255,\n",
    "        shear_range=0.2,\n",
    "        zoom_range=0.2,\n",
    "        horizontal_flip=True)\n",
    "\n",
    "training_set = train_datagen.flow_from_directory(\n",
    "        'dataset/training_set',\n",
    "        target_size=(64, 64), # instead of 150 we used 64 for faster training\n",
    "        batch_size=32,\n",
    "        class_mode='binary')  # we are using binary as we just have to predict cat or dog/ for multicalss use categorical"
   ]
  },
  {
   "cell_type": "markdown",
   "metadata": {
    "id": "mrCMmGw9pHys"
   },
   "source": [
    "### Preprocessing the Test set"
   ]
  },
  {
   "cell_type": "code",
   "execution_count": 4,
   "metadata": {
    "id": "Tgf2r2z15Gt0"
   },
   "outputs": [
    {
     "name": "stdout",
     "output_type": "stream",
     "text": [
      "Found 2000 images belonging to 2 classes.\n"
     ]
    }
   ],
   "source": [
    "test_datagen = ImageDataGenerator(rescale=1./255)\n",
    "\n",
    "test_set = test_datagen.flow_from_directory(\n",
    "        'dataset/test_set',\n",
    "        target_size=(64, 64),\n",
    "        batch_size=32,\n",
    "        class_mode='binary')"
   ]
  },
  {
   "cell_type": "markdown",
   "metadata": {
    "id": "af8O4l90gk7B"
   },
   "source": [
    "## Part 2 - Building the CNN"
   ]
  },
  {
   "cell_type": "markdown",
   "metadata": {
    "id": "ces1gXY2lmoX"
   },
   "source": [
    "### Initialising the CNN"
   ]
  },
  {
   "cell_type": "code",
   "execution_count": 5,
   "metadata": {
    "id": "O9DNqzsCBBHM",
    "scrolled": true
   },
   "outputs": [
    {
     "name": "stderr",
     "output_type": "stream",
     "text": [
      "2023-10-11 00:05:06.703596: I metal_plugin/src/device/metal_device.cc:1154] Metal device set to: Apple M1\n",
      "2023-10-11 00:05:06.703647: I metal_plugin/src/device/metal_device.cc:296] systemMemory: 8.00 GB\n",
      "2023-10-11 00:05:06.703665: I metal_plugin/src/device/metal_device.cc:313] maxCacheSize: 2.67 GB\n",
      "2023-10-11 00:05:06.703902: I tensorflow/core/common_runtime/pluggable_device/pluggable_device_factory.cc:306] Could not identify NUMA node of platform GPU ID 0, defaulting to 0. Your kernel may not have been built with NUMA support.\n",
      "2023-10-11 00:05:06.703935: I tensorflow/core/common_runtime/pluggable_device/pluggable_device_factory.cc:272] Created TensorFlow device (/job:localhost/replica:0/task:0/device:GPU:0 with 0 MB memory) -> physical PluggableDevice (device: 0, name: METAL, pci bus id: <undefined>)\n"
     ]
    }
   ],
   "source": [
    "cnn = tf.keras.models.Sequential()"
   ]
  },
  {
   "cell_type": "markdown",
   "metadata": {
    "id": "u5YJj_XMl5LF"
   },
   "source": [
    "### Step 1 - Convolution"
   ]
  },
  {
   "cell_type": "code",
   "execution_count": 6,
   "metadata": {
    "id": "fwWzSBAd5HfO"
   },
   "outputs": [],
   "source": [
    "cnn.add(tf.keras.layers.Conv2D(filters=32, kernel_size=(3,3), activation='relu', input_shape=[64,64,3])) # our case we are using color images so shape is 64,64,3 in case of Black and white it would be 64,64,1"
   ]
  },
  {
   "cell_type": "markdown",
   "metadata": {
    "id": "tf87FpvxmNOJ"
   },
   "source": [
    "### Step 2 - Pooling"
   ]
  },
  {
   "cell_type": "code",
   "execution_count": 7,
   "metadata": {
    "id": "6D9mgCwjCcJg"
   },
   "outputs": [],
   "source": [
    "cnn.add(tf.keras.layers.MaxPool2D(pool_size=2, strides=2))"
   ]
  },
  {
   "cell_type": "markdown",
   "metadata": {
    "id": "xaTOgD8rm4mU"
   },
   "source": [
    "### Adding a second convolutional layer"
   ]
  },
  {
   "cell_type": "code",
   "execution_count": 8,
   "metadata": {
    "id": "3m_UrwQC5IKF"
   },
   "outputs": [],
   "source": [
    "cnn.add(tf.keras.layers.Conv2D(filters=32, kernel_size=(3,3), activation='relu')) # in second layer we dont require input shape as its already provided in first layer\n",
    "cnn.add(tf.keras.layers.MaxPool2D(pool_size=2, strides=2))"
   ]
  },
  {
   "cell_type": "markdown",
   "metadata": {
    "id": "tmiEuvTunKfk"
   },
   "source": [
    "### Step 3 - Flattening"
   ]
  },
  {
   "cell_type": "code",
   "execution_count": 9,
   "metadata": {
    "id": "PXNiOHnt5JHv"
   },
   "outputs": [],
   "source": [
    "cnn.add(tf.keras.layers.Flatten())"
   ]
  },
  {
   "cell_type": "markdown",
   "metadata": {
    "id": "dAoSECOm203v"
   },
   "source": [
    "### Step 4 - Full Connection"
   ]
  },
  {
   "cell_type": "code",
   "execution_count": 10,
   "metadata": {
    "id": "eg_XACEf5JcZ"
   },
   "outputs": [],
   "source": [
    "cnn.add(tf.keras.layers.Dense(units=128, activation='relu'))"
   ]
  },
  {
   "cell_type": "markdown",
   "metadata": {
    "id": "yTldFvbX28Na"
   },
   "source": [
    "### Step 5 - Output Layer"
   ]
  },
  {
   "cell_type": "code",
   "execution_count": 11,
   "metadata": {
    "id": "MQtacEW75J0E"
   },
   "outputs": [],
   "source": [
    "cnn.add(tf.keras.layers.Dense(units=1, activation='sigmoid')) # sigmoid for binary classification"
   ]
  },
  {
   "cell_type": "markdown",
   "metadata": {
    "id": "D6XkI90snSDl"
   },
   "source": [
    "## Part 3 - Training the CNN"
   ]
  },
  {
   "cell_type": "markdown",
   "metadata": {
    "id": "vfrFQACEnc6i"
   },
   "source": [
    "### Compiling the CNN"
   ]
  },
  {
   "cell_type": "code",
   "execution_count": 12,
   "metadata": {
    "id": "dRFf_bM65KSS"
   },
   "outputs": [],
   "source": [
    "cnn.compile(optimizer='adam', loss='binary_crossentropy', metrics=['accuracy'])"
   ]
  },
  {
   "cell_type": "markdown",
   "metadata": {
    "id": "ehS-v3MIpX2h"
   },
   "source": [
    "### Training the CNN on the Training set and evaluating it on the Test set"
   ]
  },
  {
   "cell_type": "code",
   "execution_count": 13,
   "metadata": {
    "id": "dqDhIRC05K8w"
   },
   "outputs": [
    {
     "name": "stdout",
     "output_type": "stream",
     "text": [
      "Epoch 1/25\n"
     ]
    },
    {
     "name": "stderr",
     "output_type": "stream",
     "text": [
      "2023-10-11 00:05:19.739028: I tensorflow/core/grappler/optimizers/custom_graph_optimizer_registry.cc:117] Plugin optimizer for device_type GPU is enabled.\n"
     ]
    },
    {
     "name": "stdout",
     "output_type": "stream",
     "text": [
      "250/250 [==============================] - 15s 48ms/step - loss: 0.7544 - accuracy: 0.5136 - val_loss: 0.6845 - val_accuracy: 0.5625\n",
      "Epoch 2/25\n",
      "250/250 [==============================] - 10s 41ms/step - loss: 0.6595 - accuracy: 0.6009 - val_loss: 0.6123 - val_accuracy: 0.6700\n",
      "Epoch 3/25\n",
      "250/250 [==============================] - 10s 42ms/step - loss: 0.6068 - accuracy: 0.6722 - val_loss: 0.6741 - val_accuracy: 0.6285\n",
      "Epoch 4/25\n",
      "250/250 [==============================] - 10s 42ms/step - loss: 0.5688 - accuracy: 0.7084 - val_loss: 0.5767 - val_accuracy: 0.7080\n",
      "Epoch 5/25\n",
      "250/250 [==============================] - 10s 41ms/step - loss: 0.5474 - accuracy: 0.7191 - val_loss: 0.5330 - val_accuracy: 0.7395\n",
      "Epoch 6/25\n",
      "250/250 [==============================] - 11s 42ms/step - loss: 0.5305 - accuracy: 0.7398 - val_loss: 0.5063 - val_accuracy: 0.7545\n",
      "Epoch 7/25\n",
      "250/250 [==============================] - 12s 49ms/step - loss: 0.5108 - accuracy: 0.7501 - val_loss: 0.5033 - val_accuracy: 0.7550\n",
      "Epoch 8/25\n",
      "250/250 [==============================] - 11s 42ms/step - loss: 0.5033 - accuracy: 0.7581 - val_loss: 0.4965 - val_accuracy: 0.7645\n",
      "Epoch 9/25\n",
      "250/250 [==============================] - 10s 41ms/step - loss: 0.4934 - accuracy: 0.7666 - val_loss: 0.5581 - val_accuracy: 0.7350\n",
      "Epoch 10/25\n",
      "250/250 [==============================] - 10s 41ms/step - loss: 0.4871 - accuracy: 0.7694 - val_loss: 0.4782 - val_accuracy: 0.7705\n",
      "Epoch 11/25\n",
      "250/250 [==============================] - 10s 40ms/step - loss: 0.4746 - accuracy: 0.7739 - val_loss: 0.4657 - val_accuracy: 0.7900\n",
      "Epoch 12/25\n",
      "250/250 [==============================] - 11s 43ms/step - loss: 0.4610 - accuracy: 0.7822 - val_loss: 0.4667 - val_accuracy: 0.7805\n",
      "Epoch 13/25\n",
      "250/250 [==============================] - 12s 47ms/step - loss: 0.4549 - accuracy: 0.7837 - val_loss: 0.4553 - val_accuracy: 0.7935\n",
      "Epoch 14/25\n",
      "250/250 [==============================] - 12s 47ms/step - loss: 0.4599 - accuracy: 0.7819 - val_loss: 0.4611 - val_accuracy: 0.7865\n",
      "Epoch 15/25\n",
      "250/250 [==============================] - 11s 43ms/step - loss: 0.4492 - accuracy: 0.7929 - val_loss: 0.4569 - val_accuracy: 0.7945\n",
      "Epoch 16/25\n",
      "250/250 [==============================] - 10s 41ms/step - loss: 0.4354 - accuracy: 0.7995 - val_loss: 0.4412 - val_accuracy: 0.8120\n",
      "Epoch 17/25\n",
      "250/250 [==============================] - 10s 41ms/step - loss: 0.4416 - accuracy: 0.7946 - val_loss: 0.4656 - val_accuracy: 0.7975\n",
      "Epoch 18/25\n",
      "250/250 [==============================] - 10s 41ms/step - loss: 0.4334 - accuracy: 0.8020 - val_loss: 0.4265 - val_accuracy: 0.8090\n",
      "Epoch 19/25\n",
      "250/250 [==============================] - 10s 41ms/step - loss: 0.4272 - accuracy: 0.8019 - val_loss: 0.4583 - val_accuracy: 0.7955\n",
      "Epoch 20/25\n",
      "250/250 [==============================] - 10s 41ms/step - loss: 0.4268 - accuracy: 0.8015 - val_loss: 0.4465 - val_accuracy: 0.8005\n",
      "Epoch 21/25\n",
      "250/250 [==============================] - 10s 41ms/step - loss: 0.4177 - accuracy: 0.8120 - val_loss: 0.4471 - val_accuracy: 0.8115\n",
      "Epoch 22/25\n",
      "250/250 [==============================] - 10s 41ms/step - loss: 0.4213 - accuracy: 0.8086 - val_loss: 0.4353 - val_accuracy: 0.8150\n",
      "Epoch 23/25\n",
      "250/250 [==============================] - 10s 41ms/step - loss: 0.4256 - accuracy: 0.8061 - val_loss: 0.4850 - val_accuracy: 0.7875\n",
      "Epoch 24/25\n",
      "250/250 [==============================] - 10s 41ms/step - loss: 0.4509 - accuracy: 0.7915 - val_loss: 0.5303 - val_accuracy: 0.7720\n",
      "Epoch 25/25\n",
      "250/250 [==============================] - 10s 41ms/step - loss: 0.6671 - accuracy: 0.7028 - val_loss: 0.7391 - val_accuracy: 0.6620\n"
     ]
    },
    {
     "data": {
      "text/plain": [
       "<keras.src.callbacks.History at 0x15f814640>"
      ]
     },
     "execution_count": 13,
     "metadata": {},
     "output_type": "execute_result"
    }
   ],
   "source": [
    "cnn.fit(x = training_set, validation_data=test_set, epochs=25)"
   ]
  },
  {
   "cell_type": "markdown",
   "metadata": {
    "id": "U3PZasO0006Z"
   },
   "source": [
    "## Part 4 - Making a single prediction"
   ]
  },
  {
   "cell_type": "code",
   "execution_count": 14,
   "metadata": {
    "id": "wcjFfVwJ5Lbn"
   },
   "outputs": [
    {
     "name": "stdout",
     "output_type": "stream",
     "text": [
      "1/1 [==============================] - 1s 973ms/step\n"
     ]
    },
    {
     "data": {
      "text/plain": [
       "{'cats': 0, 'dogs': 1}"
      ]
     },
     "execution_count": 14,
     "metadata": {},
     "output_type": "execute_result"
    }
   ],
   "source": [
    "from keras.preprocessing import image\n",
    "import numpy as np\n",
    "\n",
    "test_image = image.load_img('dataset/single_prediction/cat_or_dog_1.jpg', target_size=(64,64)) # taking first image and applying the same size\n",
    "test_image = image.img_to_array(test_image) # img to array as it takes number as value\n",
    "test_image = np.expand_dims(test_image, axis=0)\n",
    "#This line adds an extra dimension to the array to make it compatible with the model's input.\n",
    "#In deep learning, models often expect input data to be organized as batches, even if you're only working with a single image.\n",
    "#By adding an extra dimension with np.expand_dims, you're essentially creating a batch of one image.\n",
    "#The axis=0 parameter specifies that the new dimension should be added at the beginning of the array.\n",
    "\n",
    "result = cnn.predict(test_image)\n",
    "\n",
    "training_set.class_indices  # thios code tell us which calss represennt 0 & 1"
   ]
  },
  {
   "cell_type": "code",
   "execution_count": 15,
   "metadata": {
    "id": "T-HcT1rOeYdx"
   },
   "outputs": [],
   "source": [
    "if result[0][0] == 1:  # first we are accessing first batvh form result and then 1st prediction so [0][0]\n",
    "  prediction = 'dog'\n",
    "else:\n",
    "  prediction = 'cat'"
   ]
  },
  {
   "cell_type": "code",
   "execution_count": 16,
   "metadata": {
    "id": "vvC_coITe0U3"
   },
   "outputs": [
    {
     "name": "stdout",
     "output_type": "stream",
     "text": [
      "dog\n"
     ]
    }
   ],
   "source": [
    "print(prediction)"
   ]
  },
  {
   "cell_type": "code",
   "execution_count": 19,
   "metadata": {},
   "outputs": [
    {
     "name": "stdout",
     "output_type": "stream",
     "text": [
      "1/1 [==============================] - 0s 19ms/step\n",
      "cat\n"
     ]
    }
   ],
   "source": [
    "test_image = image.load_img('dataset/single_prediction/cat_or_dog_2.jpg', target_size=(64,64)) # taking first image and applying the same size\n",
    "test_image = image.img_to_array(test_image) # img to array as it takes number as value\n",
    "test_image = np.expand_dims(test_image, axis=0)\n",
    "#This line adds an extra dimension to the array to make it compatible with the model's input.\n",
    "#In deep learning, models often expect input data to be organized as batches, even if you're only working with a single image.\n",
    "#By adding an extra dimension with np.expand_dims, you're essentially creating a batch of one image.\n",
    "#The axis=0 parameter specifies that the new dimension should be added at the beginning of the array.\n",
    "\n",
    "result = cnn.predict(test_image)\n",
    "if result[0][0] == 1:  # first we are accessing first batvh form result and then 1st prediction so [0][0]\n",
    "  prediction = 'dog'\n",
    "else:\n",
    "  prediction = 'cat'\n",
    "print(prediction)"
   ]
  },
  {
   "cell_type": "code",
   "execution_count": null,
   "metadata": {},
   "outputs": [],
   "source": []
  }
 ],
 "metadata": {
  "colab": {
   "provenance": []
  },
  "kernelspec": {
   "display_name": "Python 3.11 (tensorflow)",
   "language": "python",
   "name": "tensorflow"
  },
  "language_info": {
   "codemirror_mode": {
    "name": "ipython",
    "version": 3
   },
   "file_extension": ".py",
   "mimetype": "text/x-python",
   "name": "python",
   "nbconvert_exporter": "python",
   "pygments_lexer": "ipython3",
   "version": "3.9.18"
  },
  "toc": {
   "base_numbering": 1,
   "nav_menu": {},
   "number_sections": true,
   "sideBar": true,
   "skip_h1_title": false,
   "title_cell": "Table of Contents",
   "title_sidebar": "Contents",
   "toc_cell": false,
   "toc_position": {},
   "toc_section_display": true,
   "toc_window_display": false
  }
 },
 "nbformat": 4,
 "nbformat_minor": 4
}
