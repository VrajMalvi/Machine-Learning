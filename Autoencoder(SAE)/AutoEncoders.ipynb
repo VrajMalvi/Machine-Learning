{
 "cells": [
  {
   "cell_type": "markdown",
   "metadata": {
    "id": "K4f4JG1gdKqj"
   },
   "source": [
    "#AutoEncoders"
   ]
  },
  {
   "cell_type": "markdown",
   "metadata": {
    "id": "1jbiqOK7dLGG"
   },
   "source": [
    "##Downloading the dataset"
   ]
  },
  {
   "cell_type": "markdown",
   "metadata": {
    "id": "XL5MEkLcfRD2"
   },
   "source": [
    "###ML-100K"
   ]
  },
  {
   "cell_type": "code",
   "execution_count": 1,
   "metadata": {
    "id": "rjOPzue7FCXJ",
    "scrolled": true
   },
   "outputs": [
    {
     "name": "stdout",
     "output_type": "stream",
     "text": [
      "Archive:  ml-100k.zip\n",
      "   creating: ml-100k/\n",
      "  inflating: ml-100k/allbut.pl       \n",
      "   creating: __MACOSX/\n",
      "   creating: __MACOSX/ml-100k/\n",
      "  inflating: __MACOSX/ml-100k/._allbut.pl  \n",
      "  inflating: ml-100k/mku.sh          \n",
      "  inflating: __MACOSX/ml-100k/._mku.sh  \n",
      "  inflating: ml-100k/README          \n",
      "  inflating: __MACOSX/ml-100k/._README  \n",
      "  inflating: ml-100k/u.data          \n",
      "  inflating: __MACOSX/ml-100k/._u.data  \n",
      "  inflating: ml-100k/u.genre         \n",
      "  inflating: __MACOSX/ml-100k/._u.genre  \n",
      "  inflating: ml-100k/u.info          \n",
      "  inflating: __MACOSX/ml-100k/._u.info  \n",
      "  inflating: ml-100k/u.item          \n",
      "  inflating: __MACOSX/ml-100k/._u.item  \n",
      "  inflating: ml-100k/u.occupation    \n",
      "  inflating: __MACOSX/ml-100k/._u.occupation  \n",
      "  inflating: ml-100k/u.user          \n",
      "  inflating: __MACOSX/ml-100k/._u.user  \n",
      "  inflating: ml-100k/u1.base         \n",
      "  inflating: __MACOSX/ml-100k/._u1.base  \n",
      "  inflating: ml-100k/u1.test         \n",
      "  inflating: __MACOSX/ml-100k/._u1.test  \n",
      "  inflating: ml-100k/u2.base         \n",
      "  inflating: __MACOSX/ml-100k/._u2.base  \n",
      "  inflating: ml-100k/u2.test         \n",
      "  inflating: __MACOSX/ml-100k/._u2.test  \n",
      "  inflating: ml-100k/u3.base         \n",
      "  inflating: __MACOSX/ml-100k/._u3.base  \n",
      "  inflating: ml-100k/u3.test         \n",
      "  inflating: __MACOSX/ml-100k/._u3.test  \n",
      "  inflating: ml-100k/u4.base         \n",
      "  inflating: __MACOSX/ml-100k/._u4.base  \n",
      "  inflating: ml-100k/u4.test         \n",
      "  inflating: __MACOSX/ml-100k/._u4.test  \n",
      "  inflating: ml-100k/u5.base         \n",
      "  inflating: __MACOSX/ml-100k/._u5.base  \n",
      "  inflating: ml-100k/u5.test         \n",
      "  inflating: __MACOSX/ml-100k/._u5.test  \n",
      "  inflating: ml-100k/ua.base         \n",
      "  inflating: __MACOSX/ml-100k/._ua.base  \n",
      "  inflating: ml-100k/ua.test         \n",
      "  inflating: __MACOSX/ml-100k/._ua.test  \n",
      "  inflating: ml-100k/ub.base         \n",
      "  inflating: __MACOSX/ml-100k/._ub.base  \n",
      "  inflating: ml-100k/ub.test         \n",
      "  inflating: __MACOSX/ml-100k/._ub.test  \n",
      "  inflating: __MACOSX/._ml-100k      \n",
      "\u001b[34mAutoEncoders\u001b[m\u001b[m                       ~$CT4000-Activity-D02(1).docx\n",
      "AutoEncoders.ipynb                 ~$CT4003-Case-Project.docx\n",
      "\u001b[34m__MACOSX\u001b[m\u001b[m                           ~$CT4008-Activity-06_Solution.docx\n",
      "\u001b[34mml-100k\u001b[m\u001b[m                            ~$b Evaluation#1_v2.docx\n",
      "ml-100k.zip                        ~$dule 3 Report.docx\n",
      "ml-1m.zip                          ~$signment#1.docx\n",
      "~$ Competitive Analysis.docx\n"
     ]
    }
   ],
   "source": [
    "#!wget \"http://files.grouplens.org/datasets/movielens/ml-100k.zip\"\n",
    "!unzip ml-100k.zip\n",
    "!ls"
   ]
  },
  {
   "cell_type": "markdown",
   "metadata": {
    "id": "9Xis6ldDfTs6"
   },
   "source": [
    "###ML-1M"
   ]
  },
  {
   "cell_type": "code",
   "execution_count": 2,
   "metadata": {
    "id": "LOly1yfAfTjd",
    "scrolled": true
   },
   "outputs": [
    {
     "name": "stdout",
     "output_type": "stream",
     "text": [
      "Archive:  ml-1m.zip\n",
      "   creating: ml-1m/\n",
      "  inflating: ml-1m/.DS_Store         \n",
      "   creating: __MACOSX/ml-1m/\n",
      "  inflating: __MACOSX/ml-1m/._.DS_Store  \n",
      "  inflating: ml-1m/.Rhistory         \n",
      "  inflating: ml-1m/movies.dat        \n",
      "  inflating: __MACOSX/ml-1m/._movies.dat  \n",
      "  inflating: ml-1m/ratings.dat       \n",
      "  inflating: __MACOSX/ml-1m/._ratings.dat  \n",
      "  inflating: ml-1m/README            \n",
      "  inflating: __MACOSX/ml-1m/._README  \n",
      "  inflating: ml-1m/test_set.csv      \n",
      "  inflating: __MACOSX/ml-1m/._test_set.csv  \n",
      "  inflating: ml-1m/training_set.csv  \n",
      "  inflating: __MACOSX/ml-1m/._training_set.csv  \n",
      "  inflating: ml-1m/users.dat         \n",
      "  inflating: __MACOSX/ml-1m/._users.dat  \n",
      "  inflating: __MACOSX/._ml-1m        \n",
      "\u001b[34mAutoEncoders\u001b[m\u001b[m                       ~$ Competitive Analysis.docx\n",
      "AutoEncoders.ipynb                 ~$CT4000-Activity-D02(1).docx\n",
      "\u001b[34m__MACOSX\u001b[m\u001b[m                           ~$CT4003-Case-Project.docx\n",
      "\u001b[34mml-100k\u001b[m\u001b[m                            ~$CT4008-Activity-06_Solution.docx\n",
      "ml-100k.zip                        ~$b Evaluation#1_v2.docx\n",
      "\u001b[34mml-1m\u001b[m\u001b[m                              ~$dule 3 Report.docx\n",
      "ml-1m.zip                          ~$signment#1.docx\n"
     ]
    }
   ],
   "source": [
    "#!wget \"http://files.grouplens.org/datasets/movielens/ml-1m.zip\"\n",
    "!unzip ml-1m.zip\n",
    "!ls"
   ]
  },
  {
   "cell_type": "markdown",
   "metadata": {
    "id": "EOBJ8UCXdY0g"
   },
   "source": [
    "##Importing the libraries"
   ]
  },
  {
   "cell_type": "code",
   "execution_count": 3,
   "metadata": {
    "id": "_LvGeU1CeCtg"
   },
   "outputs": [],
   "source": [
    "import numpy as np\n",
    "import pandas as pd\n",
    "import torch\n",
    "import torch.nn as nn\n",
    "import torch.nn.parallel\n",
    "import torch.optim as optim\n",
    "import torch.utils.data\n",
    "from torch.autograd import Variable"
   ]
  },
  {
   "cell_type": "markdown",
   "metadata": {
    "id": "pM04FyMudkoK"
   },
   "source": [
    "## Importing the dataset\n",
    "\n",
    "\n",
    "* sep='::' specifies the separator used to separate values in the file. In this case, it's a double colon '::'. This separator is used because the dataset may not be a standard CSV (Comma-Separated Values) file.\n",
    "\n",
    "* header=None indicates that there is no header row in the dataset, and the first row should be treated as data, not column names.\n",
    "\n",
    "* engine='python' specifies the parsing engine to use. In this case, it's set to 'python', which is used when non-standard separators like '::' are used.\n",
    "\n",
    "* encoding='latin-1' specifies the character encoding used in the file.\n",
    "'latin-1' is a commonly used encoding for handling text data. (in our case we used latin-1 as data contains special characters or symbols that are better represented in 'latin-1', using this encoding ensures that those characters are correctly read.)\n",
    "\n"
   ]
  },
  {
   "cell_type": "code",
   "execution_count": 4,
   "metadata": {
    "id": "UJw2p3-Cewo4"
   },
   "outputs": [],
   "source": [
    "# We won't be using this dataset.\n",
    "movies = pd.read_csv('ml-1m/movies.dat', sep = '::', header = None, engine = 'python', encoding = 'latin-1')\n",
    "users = pd.read_csv('ml-1m/users.dat', sep = '::', header = None, engine = 'python', encoding = 'latin-1')\n",
    "ratings = pd.read_csv('ml-1m/ratings.dat', sep = '::', header = None, engine = 'python', encoding = 'latin-1')"
   ]
  },
  {
   "cell_type": "markdown",
   "metadata": {
    "id": "yTIbE2tkdkwP"
   },
   "source": [
    "## Preparing the training set and the test set\n"
   ]
  },
  {
   "cell_type": "code",
   "execution_count": 5,
   "metadata": {
    "id": "2usLKJBEgPE2"
   },
   "outputs": [],
   "source": [
    "training_set = pd.read_csv('ml-100k/u1.base', delimiter = '\\t')\n",
    "training_set = np.array(training_set, dtype = 'int')\n",
    "test_set = pd.read_csv('ml-100k/u1.test', delimiter = '\\t')\n",
    "test_set = np.array(test_set, dtype = 'int')\n",
    "# 1 colom - users, 2nd colom - movies and 3rd colom - ratings we dont need 4th colom same in test_set\n",
    "# in test set we have same users but movies associated with the same user is difffernt from training set"
   ]
  },
  {
   "cell_type": "markdown",
   "metadata": {
    "id": "zCf8HjSydk4s"
   },
   "source": [
    "## Getting the number of users and movies\n"
   ]
  },
  {
   "cell_type": "code",
   "execution_count": 6,
   "metadata": {
    "id": "KNzYpO2h8HeE"
   },
   "outputs": [],
   "source": [
    "# in upcoming setps we will convert training and test set in to matrix where\n",
    "# line represents - users, colorings - movies and cells - ratings\n",
    "# in each of this two matices we will include all users and movies from original dataset\n",
    "\n",
    "# in cells where user did not rate we will put '0' by default\n",
    "# we want to get maximum number of users in data set if we get max form training set it wont work\n",
    "# as users and movies are not distributeed in same way, it possible that user with highest userID could be in test set\n",
    "# splits are random so we could have highest userID in one of the test set\n",
    "# we will take max of user_id in training and test sets by doing that we will get max number of user and movies\n",
    "\n",
    "# we need to do this step if we want to apply 5 k-cross validation sets from u1 to u5"
   ]
  },
  {
   "cell_type": "code",
   "execution_count": 7,
   "metadata": {
    "id": "gPaGZqdniC5m"
   },
   "outputs": [],
   "source": [
    "nb_users = int(max(max(training_set[:, 0], ), max(test_set[:, 0])))\n",
    "# here we are taking max of both for the user colunm which is 0th colunm same for movies\n",
    "nb_movies = int(max(max(training_set[:, 1], ), max(test_set[:, 1])))"
   ]
  },
  {
   "cell_type": "markdown",
   "metadata": {
    "id": "J-w4-hVidlAm"
   },
   "source": [
    "## Converting the data into an array with users in lines and movies in columns\n",
    "\n",
    "* [data[:, 0] == id_user] creates a boolean mask by comparing the values in the first column (index 0) of the data array to a specific value id_user. This mask will have True where the condition is met and False where it's not."
   ]
  },
  {
   "cell_type": "code",
   "execution_count": 8,
   "metadata": {
    "id": "-wASs2YFiDaa"
   },
   "outputs": [],
   "source": [
    "# we will create matrice which has max user count as row and max movie count and column\n",
    "\n",
    "def convert(data):\n",
    "  # we are creating list of list each line representing unique user\n",
    "  new_data =[]\n",
    "\n",
    "  # user value start form 1 to value of nb_user and in range it does not inclue upperbound so we have to add +1\n",
    "  for id_user in range(1, nb_users + 1):\n",
    "    id_movies = data[:, 1][data[:, 0] == id_user] # contains index/id of movie rated by each user\n",
    "    id_ratings = data[:, 2][data[:, 0] == id_user] # contains ratings rated by each user we will put '0' for movies which are not rated\n",
    "\n",
    "    ratings = np.zeros(nb_movies) # creating rating var containing list of 0, len of total movies\n",
    "\n",
    "    # index of movies start at 1 but index of rating start at zero so we need to substract by 1\n",
    "    ratings[id_movies - 1] = id_ratings # now we have list of rating for all the movies ids for all users\n",
    "\n",
    "    new_data.append(list(ratings)) # added rating to new_data userwise we are creating list of list and rating is array so we need to convert\n",
    "\n",
    "  return new_data\n",
    "\n",
    "\n",
    "training_set = convert(training_set)\n",
    "test_set = convert(test_set)\n",
    "# so now we have matrices comntaing ratings for all movies for all user( row-user, column each movie)"
   ]
  },
  {
   "cell_type": "markdown",
   "metadata": {
    "id": "AMmhuUpldlHo"
   },
   "source": [
    "## Converting the data into Torch tensors\n"
   ]
  },
  {
   "cell_type": "code",
   "execution_count": 9,
   "metadata": {
    "id": "TwD-KD8yiEEw"
   },
   "outputs": [],
   "source": [
    "training_set = torch.FloatTensor(training_set)\n",
    "test_set = torch.FloatTensor(test_set)"
   ]
  },
  {
   "cell_type": "markdown",
   "metadata": {
    "id": "6kkL8NkkdlZj"
   },
   "source": [
    "## Creating the architecture of the Neural Network\n"
   ]
  },
  {
   "cell_type": "code",
   "execution_count": 10,
   "metadata": {
    "id": "TMbqR2Ja8oo8"
   },
   "outputs": [],
   "source": [
    "from torch._C import wait\n",
    "from torch.nn.modules.loss import MSELoss\n",
    "# we are creating stacked autoencoder\n",
    "# In PyTorch, nn.Module is a base class that serves as the foundation for creating neural network models.\n",
    "\n",
    "class SAE(nn.Module):\n",
    "\n",
    "  def __init__(self, ):\n",
    "\n",
    "    super(SAE, self).__init__()\n",
    "    # By calling super(SAE, self).__init__(), you ensure that the initialization of the nn.Module is performed.\n",
    "\n",
    "    self.fc1 = nn.Linear(nb_movies, 20)\n",
    "    # first input is number of features, second input of number of neurons in hidden layer\n",
    "\n",
    "    self.fc2 = nn.Linear(20, 10)\n",
    "    # here we are creating another hidden layer which takes 20 node from first hidden layer and 2nd layer has 10 nodes\n",
    "\n",
    "    self.fc3 = nn.Linear(10, 20)\n",
    "    # here now we are trying decoding in this layer\n",
    "\n",
    "    self.fc4 = nn.Linear(20, nb_movies)\n",
    "    # last decoding layer which takes 20 hidden  node, and number of neurons in output layer(same as input layer)\n",
    "\n",
    "    self.activation = nn.Sigmoid()\n",
    "\n",
    "\n",
    "  def forward(self, x):\n",
    "    # x in put vactor ( input value of input layer )\n",
    "\n",
    "    x =  self.activation(self.fc1(x))\n",
    "    # first encoding layer and updating x to pass into next layer\n",
    "\n",
    "    x =  self.activation(self.fc2(x))\n",
    "    # second encoding layer and updating x to pass into next layer\n",
    "\n",
    "    x =  self.activation(self.fc3(x))\n",
    "    # first decoding layer and updating x to pass into next layer\n",
    "\n",
    "    x =  self.fc4(x)\n",
    "    # last decoding layer and updating x to get output, no need of activation function as we are trying to get output layer which has similar value as input layer\n",
    "\n",
    "    return x\n",
    "\n",
    "\n",
    "sae = SAE()\n",
    "criterian = nn.MSELoss()\n",
    "optimizer = optim.RMSprop(sae.parameters(), lr = 0.01, weight_decay=0.5)"
   ]
  },
  {
   "cell_type": "markdown",
   "metadata": {
    "id": "7gy59alAdloL"
   },
   "source": [
    "## Training the SAE\n"
   ]
  },
  {
   "cell_type": "code",
   "execution_count": 12,
   "metadata": {
    "id": "QDccv3IZ8pIr",
    "scrolled": true
   },
   "outputs": [
    {
     "name": "stdout",
     "output_type": "stream",
     "text": [
      "epoch: 1loss: tensor(1.7664)\n",
      "epoch: 2loss: tensor(1.0965)\n",
      "epoch: 3loss: tensor(1.0532)\n",
      "epoch: 4loss: tensor(1.0386)\n",
      "epoch: 5loss: tensor(1.0308)\n",
      "epoch: 6loss: tensor(1.0268)\n",
      "epoch: 7loss: tensor(1.0237)\n",
      "epoch: 8loss: tensor(1.0218)\n",
      "epoch: 9loss: tensor(1.0207)\n",
      "epoch: 10loss: tensor(1.0196)\n",
      "epoch: 11loss: tensor(1.0188)\n",
      "epoch: 12loss: tensor(1.0184)\n",
      "epoch: 13loss: tensor(1.0179)\n",
      "epoch: 14loss: tensor(1.0175)\n",
      "epoch: 15loss: tensor(1.0172)\n",
      "epoch: 16loss: tensor(1.0171)\n",
      "epoch: 17loss: tensor(1.0167)\n",
      "epoch: 18loss: tensor(1.0164)\n",
      "epoch: 19loss: tensor(1.0164)\n",
      "epoch: 20loss: tensor(1.0163)\n",
      "epoch: 21loss: tensor(1.0161)\n",
      "epoch: 22loss: tensor(1.0159)\n",
      "epoch: 23loss: tensor(1.0158)\n",
      "epoch: 24loss: tensor(1.0158)\n",
      "epoch: 25loss: tensor(1.0157)\n",
      "epoch: 26loss: tensor(1.0156)\n",
      "epoch: 27loss: tensor(1.0152)\n",
      "epoch: 28loss: tensor(1.0149)\n",
      "epoch: 29loss: tensor(1.0126)\n",
      "epoch: 30loss: tensor(1.0119)\n",
      "epoch: 31loss: tensor(1.0097)\n",
      "epoch: 32loss: tensor(1.0091)\n",
      "epoch: 33loss: tensor(1.0057)\n",
      "epoch: 34loss: tensor(1.0054)\n",
      "epoch: 35loss: tensor(1.0023)\n",
      "epoch: 36loss: tensor(1.0004)\n",
      "epoch: 37loss: tensor(0.9963)\n",
      "epoch: 38loss: tensor(0.9953)\n",
      "epoch: 39loss: tensor(0.9937)\n",
      "epoch: 40loss: tensor(0.9942)\n",
      "epoch: 41loss: tensor(0.9909)\n",
      "epoch: 42loss: tensor(0.9904)\n",
      "epoch: 43loss: tensor(0.9857)\n",
      "epoch: 44loss: tensor(0.9874)\n",
      "epoch: 45loss: tensor(0.9844)\n",
      "epoch: 46loss: tensor(0.9854)\n",
      "epoch: 47loss: tensor(0.9824)\n",
      "epoch: 48loss: tensor(0.9803)\n",
      "epoch: 49loss: tensor(0.9800)\n",
      "epoch: 50loss: tensor(0.9780)\n",
      "epoch: 51loss: tensor(0.9749)\n",
      "epoch: 52loss: tensor(0.9772)\n",
      "epoch: 53loss: tensor(0.9760)\n",
      "epoch: 54loss: tensor(0.9742)\n",
      "epoch: 55loss: tensor(0.9705)\n",
      "epoch: 56loss: tensor(0.9717)\n",
      "epoch: 57loss: tensor(0.9673)\n",
      "epoch: 58loss: tensor(0.9690)\n",
      "epoch: 59loss: tensor(0.9682)\n",
      "epoch: 60loss: tensor(0.9706)\n",
      "epoch: 61loss: tensor(0.9728)\n",
      "epoch: 62loss: tensor(0.9700)\n",
      "epoch: 63loss: tensor(0.9660)\n",
      "epoch: 64loss: tensor(0.9663)\n",
      "epoch: 65loss: tensor(0.9651)\n",
      "epoch: 66loss: tensor(0.9654)\n",
      "epoch: 67loss: tensor(0.9694)\n",
      "epoch: 68loss: tensor(0.9667)\n",
      "epoch: 69loss: tensor(0.9602)\n",
      "epoch: 70loss: tensor(0.9605)\n",
      "epoch: 71loss: tensor(0.9625)\n",
      "epoch: 72loss: tensor(0.9590)\n",
      "epoch: 73loss: tensor(0.9602)\n",
      "epoch: 74loss: tensor(0.9626)\n",
      "epoch: 75loss: tensor(0.9636)\n",
      "epoch: 76loss: tensor(0.9661)\n",
      "epoch: 77loss: tensor(0.9708)\n",
      "epoch: 78loss: tensor(0.9689)\n",
      "epoch: 79loss: tensor(0.9722)\n",
      "epoch: 80loss: tensor(0.9691)\n",
      "epoch: 81loss: tensor(0.9657)\n",
      "epoch: 82loss: tensor(0.9697)\n",
      "epoch: 83loss: tensor(0.9628)\n",
      "epoch: 84loss: tensor(0.9606)\n",
      "epoch: 85loss: tensor(0.9581)\n",
      "epoch: 86loss: tensor(0.9594)\n",
      "epoch: 87loss: tensor(0.9607)\n",
      "epoch: 88loss: tensor(0.9608)\n",
      "epoch: 89loss: tensor(0.9664)\n",
      "epoch: 90loss: tensor(0.9659)\n",
      "epoch: 91loss: tensor(0.9628)\n",
      "epoch: 92loss: tensor(0.9598)\n",
      "epoch: 93loss: tensor(0.9553)\n",
      "epoch: 94loss: tensor(0.9533)\n",
      "epoch: 95loss: tensor(0.9507)\n",
      "epoch: 96loss: tensor(0.9522)\n",
      "epoch: 97loss: tensor(0.9499)\n",
      "epoch: 98loss: tensor(0.9495)\n",
      "epoch: 99loss: tensor(0.9468)\n",
      "epoch: 100loss: tensor(0.9468)\n",
      "epoch: 101loss: tensor(0.9451)\n",
      "epoch: 102loss: tensor(0.9461)\n",
      "epoch: 103loss: tensor(0.9453)\n",
      "epoch: 104loss: tensor(0.9452)\n",
      "epoch: 105loss: tensor(0.9431)\n",
      "epoch: 106loss: tensor(0.9439)\n",
      "epoch: 107loss: tensor(0.9408)\n",
      "epoch: 108loss: tensor(0.9408)\n",
      "epoch: 109loss: tensor(0.9393)\n",
      "epoch: 110loss: tensor(0.9411)\n",
      "epoch: 111loss: tensor(0.9427)\n",
      "epoch: 112loss: tensor(0.9395)\n",
      "epoch: 113loss: tensor(0.9384)\n",
      "epoch: 114loss: tensor(0.9376)\n",
      "epoch: 115loss: tensor(0.9359)\n",
      "epoch: 116loss: tensor(0.9377)\n",
      "epoch: 117loss: tensor(0.9359)\n",
      "epoch: 118loss: tensor(0.9363)\n",
      "epoch: 119loss: tensor(0.9348)\n",
      "epoch: 120loss: tensor(0.9352)\n",
      "epoch: 121loss: tensor(0.9335)\n",
      "epoch: 122loss: tensor(0.9342)\n",
      "epoch: 123loss: tensor(0.9343)\n",
      "epoch: 124loss: tensor(0.9339)\n",
      "epoch: 125loss: tensor(0.9323)\n",
      "epoch: 126loss: tensor(0.9327)\n",
      "epoch: 127loss: tensor(0.9317)\n",
      "epoch: 128loss: tensor(0.9315)\n",
      "epoch: 129loss: tensor(0.9306)\n",
      "epoch: 130loss: tensor(0.9324)\n",
      "epoch: 131loss: tensor(0.9305)\n",
      "epoch: 132loss: tensor(0.9308)\n",
      "epoch: 133loss: tensor(0.9294)\n",
      "epoch: 134loss: tensor(0.9289)\n",
      "epoch: 135loss: tensor(0.9290)\n",
      "epoch: 136loss: tensor(0.9295)\n",
      "epoch: 137loss: tensor(0.9280)\n",
      "epoch: 138loss: tensor(0.9283)\n",
      "epoch: 139loss: tensor(0.9282)\n",
      "epoch: 140loss: tensor(0.9283)\n",
      "epoch: 141loss: tensor(0.9264)\n",
      "epoch: 142loss: tensor(0.9270)\n",
      "epoch: 143loss: tensor(0.9261)\n",
      "epoch: 144loss: tensor(0.9264)\n",
      "epoch: 145loss: tensor(0.9254)\n",
      "epoch: 146loss: tensor(0.9259)\n",
      "epoch: 147loss: tensor(0.9245)\n",
      "epoch: 148loss: tensor(0.9258)\n",
      "epoch: 149loss: tensor(0.9241)\n",
      "epoch: 150loss: tensor(0.9253)\n",
      "epoch: 151loss: tensor(0.9239)\n",
      "epoch: 152loss: tensor(0.9248)\n",
      "epoch: 153loss: tensor(0.9233)\n",
      "epoch: 154loss: tensor(0.9239)\n",
      "epoch: 155loss: tensor(0.9228)\n",
      "epoch: 156loss: tensor(0.9236)\n",
      "epoch: 157loss: tensor(0.9224)\n",
      "epoch: 158loss: tensor(0.9231)\n",
      "epoch: 159loss: tensor(0.9220)\n",
      "epoch: 160loss: tensor(0.9226)\n",
      "epoch: 161loss: tensor(0.9213)\n",
      "epoch: 162loss: tensor(0.9222)\n",
      "epoch: 163loss: tensor(0.9209)\n",
      "epoch: 164loss: tensor(0.9221)\n",
      "epoch: 165loss: tensor(0.9210)\n",
      "epoch: 166loss: tensor(0.9217)\n",
      "epoch: 167loss: tensor(0.9203)\n",
      "epoch: 168loss: tensor(0.9207)\n",
      "epoch: 169loss: tensor(0.9201)\n",
      "epoch: 170loss: tensor(0.9204)\n",
      "epoch: 171loss: tensor(0.9197)\n",
      "epoch: 172loss: tensor(0.9204)\n",
      "epoch: 173loss: tensor(0.9194)\n",
      "epoch: 174loss: tensor(0.9202)\n",
      "epoch: 175loss: tensor(0.9191)\n",
      "epoch: 176loss: tensor(0.9196)\n",
      "epoch: 177loss: tensor(0.9186)\n",
      "epoch: 178loss: tensor(0.9190)\n",
      "epoch: 179loss: tensor(0.9185)\n",
      "epoch: 180loss: tensor(0.9188)\n",
      "epoch: 181loss: tensor(0.9182)\n",
      "epoch: 182loss: tensor(0.9191)\n",
      "epoch: 183loss: tensor(0.9176)\n",
      "epoch: 184loss: tensor(0.9185)\n",
      "epoch: 185loss: tensor(0.9176)\n",
      "epoch: 186loss: tensor(0.9181)\n",
      "epoch: 187loss: tensor(0.9173)\n",
      "epoch: 188loss: tensor(0.9179)\n",
      "epoch: 189loss: tensor(0.9169)\n",
      "epoch: 190loss: tensor(0.9172)\n",
      "epoch: 191loss: tensor(0.9168)\n",
      "epoch: 192loss: tensor(0.9174)\n",
      "epoch: 193loss: tensor(0.9167)\n",
      "epoch: 194loss: tensor(0.9170)\n",
      "epoch: 195loss: tensor(0.9162)\n",
      "epoch: 196loss: tensor(0.9164)\n",
      "epoch: 197loss: tensor(0.9158)\n",
      "epoch: 198loss: tensor(0.9163)\n",
      "epoch: 199loss: tensor(0.9157)\n",
      "epoch: 200loss: tensor(0.9164)\n"
     ]
    }
   ],
   "source": [
    "nb_epoch = 200\n",
    "for epoch in range(1, nb_epoch + 1):\n",
    "  train_loss = 0\n",
    "  s = 0.\n",
    "  for id_user in range(nb_users):\n",
    "    input = Variable(training_set[id_user]).unsqueeze(0) # unsqueeze ex.. before [1,2,3] after [[1,2,3]]\n",
    "    target = input.clone() # creating copy of input\n",
    "\n",
    "    # to save memory we will filter user if user has not rated even a single movie then we wont perform below operation for that user\n",
    "    if torch.sum(target.data > 0) > 0:\n",
    "\n",
    "      output = sae(input) # predicted rating\n",
    "\n",
    "      target.requires_grad = False\n",
    "      # to not calculate gradient with respect to target\n",
    "\n",
    "      output[target == 0] = 0\n",
    "\n",
    "      loss = criterian(output, target)\n",
    "      mean_corrector = nb_movies / float(torch.sum(target.data > 0) + 1e-10)\n",
    "      # mean_corrector: This variable stores the result of the calculation, which can be thought of as a correction factor. It's used to scale the loss\n",
    "      # This is a small constant (1e-10) added to avoid division by zero.\n",
    "      # avg or error for movies which are rated\n",
    "\n",
    "      loss.backward()\n",
    "      # to know which direction need to update weights\n",
    "\n",
    "      train_loss += np.sqrt(loss.data*mean_corrector)\n",
    "      s += 1.0\n",
    "\n",
    "      optimizer.step()\n",
    "      # decides intensity of weight that need update\n",
    "\n",
    "  print('epoch: ' + str(epoch) + 'loss: ' + str(train_loss/s))\n"
   ]
  },
  {
   "cell_type": "markdown",
   "metadata": {
    "id": "Bak5uc8gd-gX"
   },
   "source": [
    "## Testing the SAE\n"
   ]
  },
  {
   "cell_type": "code",
   "execution_count": 15,
   "metadata": {
    "id": "Q_GJANgm8pYd"
   },
   "outputs": [
    {
     "name": "stdout",
     "output_type": "stream",
     "text": [
      "loss: tensor(0.9605)\n"
     ]
    }
   ],
   "source": [
    "test_loss = 0\n",
    "s = 0.\n",
    "for id_user in range(nb_users):\n",
    "  input = Variable(training_set[id_user]).unsqueeze(0) # unsqueeze ex.. before [1,2,3] after [[1,2,3]]\n",
    "  # in testing we keep input to training_set as we need to predict based on training data that user liked other movies or not\n",
    "\n",
    "  target = Variable(test_set[id_user]).unsqueeze(0)\n",
    "  # taking test set to compare prediction\n",
    "\n",
    "  # to save memory we will filter user if user has not rated even a single movie then we wont perform below operation for that user\n",
    "  if torch.sum(target.data > 0) > 0:\n",
    "\n",
    "    output = sae(input) # predicted rating\n",
    "\n",
    "    target.requires_grad = False\n",
    "    # to not calculate gradient with respect to target\n",
    "\n",
    "    output[target == 0] = 0 # to only consider non-zero ratings\n",
    "\n",
    "    loss = criterian(output, target)\n",
    "    mean_corrector = nb_movies / float(torch.sum(target.data > 0) + 1e-10)\n",
    "    # mean_corrector: This variable stores the result of the calculation, which can be thought of as a correction factor. It's used to scale the loss\n",
    "    # This is a small constant (1e-10) added to avoid division by zero.\n",
    "    # avg or error for movies which are rated\n",
    "\n",
    "    test_loss += np.sqrt(loss.data*mean_corrector)\n",
    "    s += 1.0\n",
    "\n",
    "\n",
    "print('loss: ' + str(test_loss/s))"
   ]
  }
 ],
 "metadata": {
  "accelerator": "GPU",
  "colab": {
   "provenance": []
  },
  "kernelspec": {
   "display_name": "Python 3 (ipykernel)",
   "language": "python",
   "name": "python3"
  },
  "language_info": {
   "codemirror_mode": {
    "name": "ipython",
    "version": 3
   },
   "file_extension": ".py",
   "mimetype": "text/x-python",
   "name": "python",
   "nbconvert_exporter": "python",
   "pygments_lexer": "ipython3",
   "version": "3.9.18"
  }
 },
 "nbformat": 4,
 "nbformat_minor": 4
}
